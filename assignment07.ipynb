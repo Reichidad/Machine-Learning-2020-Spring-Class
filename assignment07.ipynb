{
  "nbformat": 4,
  "nbformat_minor": 0,
  "metadata": {
    "colab": {
      "name": "assignment07.ipynb",
      "provenance": [],
      "mount_file_id": "1Wo-_A74c8tMzzYvczo65w3nekce-PJfq",
      "authorship_tag": "ABX9TyPK9oGsgwYRGUBsKKAuPfdJ",
      "include_colab_link": true
    },
    "kernelspec": {
      "name": "python3",
      "display_name": "Python 3"
    }
  },
  "cells": [
    {
      "cell_type": "markdown",
      "metadata": {
        "id": "view-in-github",
        "colab_type": "text"
      },
      "source": [
        "<a href=\"https://colab.research.google.com/github/Reichidad/Machine-Learning-2020-Spring-Class/blob/assignment07/assignment07.ipynb\" target=\"_parent\"><img src=\"https://colab.research.google.com/assets/colab-badge.svg\" alt=\"Open In Colab\"/></a>"
      ]
    },
    {
      "cell_type": "markdown",
      "metadata": {
        "id": "YyO9K24ymiEq",
        "colab_type": "text"
      },
      "source": [
        "# Logistic regression for a binary classification with a regularization - 20145822 김영현\n",
        "---"
      ]
    },
    {
      "cell_type": "markdown",
      "metadata": {
        "id": "fwiKjy-nmt1R",
        "colab_type": "text"
      },
      "source": [
        "# Training Code\n",
        "___"
      ]
    },
    {
      "cell_type": "code",
      "metadata": {
        "id": "vdvzR_3VmMyn",
        "colab_type": "code",
        "colab": {
          "base_uri": "https://localhost:8080/",
          "height": 89
        },
        "outputId": "f1319aa1-1dbd-488e-94a9-f1fcc419facf"
      },
      "source": [
        "import numpy as np\n",
        "import matplotlib.pyplot as plt\n",
        "import math\n",
        "\n",
        "# data input\n",
        "data    = np.genfromtxt(\"/content/drive/My Drive/Colab Notebooks/data07/data-nonlinear.txt\", delimiter=',')\n",
        "\n",
        "pointX  = data[:, 0]\n",
        "pointY  = data[:, 1]\n",
        "label   = data[:, 2]\n",
        "\n",
        "pointX0 = pointX[label == 0]\n",
        "pointY0 = pointY[label == 0]\n",
        "\n",
        "pointX1 = pointX[label == 1]\n",
        "pointY1 = pointY[label == 1]\n",
        "\n",
        "# function definition\n",
        "# calculate f_k value\n",
        "def func_k_calc(x, y, x_exp, y_exp):\n",
        "  return (x ** x_exp) * (y ** y_exp)\n",
        "# calculate g function value\n",
        "def func_calc(theta_list, x, y):\n",
        "  func_val = 0\n",
        "  for i in range(10):\n",
        "    for j in range(10):\n",
        "      func_val += theta_list[i][j] * func_k_calc(x, y, i, j)\n",
        "  return func_val\n",
        "# calculate z values\n",
        "def z_calc(theta_list, pointX, pointY):\n",
        "  z = []\n",
        "  for i in range(len(pointX)):\n",
        "    z_iteration = func_calc(theta_list, pointX[i], pointY[i])\n",
        "    z.append(z_iteration)\n",
        "  return z\n",
        "# calculate sigmoid values\n",
        "def calc_sigmoid(z):\n",
        "  sigmoid = []\n",
        "  for i in range(len(z)):\n",
        "    sigmoid.append(1/(1+math.exp(-z[i])))\n",
        "  return sigmoid\n",
        "# calculate objective function value\n",
        "def ob_func(label, sigmoid, reg_param, theta_list):\n",
        "  sum_left = 0\n",
        "  for i in range(len(label)):\n",
        "    oprd_left = (-1*label[i]) * math.log(sigmoid[i])\n",
        "    oprd_right = (1-label[i]) * math.log(1-sigmoid[i])\n",
        "    sum_left += oprd_left - oprd_right\n",
        "  sum_left = sum_left/len(label)\n",
        "  sum_right = 0\n",
        "  for i in range(10):\n",
        "    for j in range(10):\n",
        "      sum_right += theta_list[i][j] ** 2\n",
        "  sum_right = sum_right * reg_param / 2\n",
        "  return sum_left + sum_right\n",
        "# calculate next theta value\n",
        "def theta_desc(theta_list, alpha, pointX, pointY, label, sigmoid, reg_param):\n",
        "  sum = np.zeros((10,10))\n",
        "  for k in range(len(sigmoid)):\n",
        "    for i in range(10):\n",
        "      for j in range(10):\n",
        "        sum[i][j] += (sigmoid[k] - label[k]) * func_k_calc(pointX[k], pointY[k], i, j)\n",
        "  for i in range(10):\n",
        "      for j in range(10):\n",
        "        sum[i][j] = alpha * (sum[i][j] / len(sigmoid) + reg_param * theta_list[i][j])\n",
        "        theta_list[i][j] = theta_list[i][j] - sum[i][j]\n",
        "  return theta_list\n",
        "\n",
        "# variable declaration\n",
        "# array for store each regularization's theta\n",
        "theta_list_over = np.ones((10,10))\n",
        "theta_list_just = np.ones((10,10))\n",
        "theta_list_under = np.ones((10,10))\n",
        "# regularization control parameter [over, just, under]\n",
        "reg_params = [0.01, 0.05, 0.1]\n",
        "# learning rate\n",
        "alpha = 0.1\n",
        "# iteration counter\n",
        "iteration = 0\n",
        "# list for store data at every iteration\n",
        "ob_func_list = []\n",
        "accuracy_list = []\n",
        "\n",
        "# start iteration\n",
        "while True:\n",
        "  # calculate each value for this iteration\n",
        "  z_list_over = z_calc(theta_list_over, pointX, pointY)\n",
        "  z_list_just = z_calc(theta_list_just, pointX, pointY)\n",
        "  z_list_under =  z_calc(theta_list_under, pointX, pointY)\n",
        "  z_list = [z_list_over, z_list_just, z_list_under]\n",
        "  theta_list = [theta_list_over, theta_list_just, theta_list_under]\n",
        "  sigmoid_list = []\n",
        "  for i in range(3):\n",
        "    sigmoid_list.append(calc_sigmoid(z_list[i])) \n",
        "  ob_func_val = []\n",
        "  for i in range(3):\n",
        "    ob_func_val.append(ob_func(label, sigmoid_list[i], reg_params[i], theta_list[i]))\n",
        "  # store predictions\n",
        "  predictions = []\n",
        "  for i in range(3):\n",
        "    predictions_temp = []\n",
        "    for j in sigmoid_list[i]:\n",
        "      if j < 0.5:\n",
        "        predictions_temp.append(0)\n",
        "      else:\n",
        "        predictions_temp.append(1)\n",
        "    predictions.append(predictions_temp)\n",
        "  # calculate accuracy\n",
        "  acc_temp = [0, 0, 0]\n",
        "  for i in range(3):\n",
        "    acc_hit = 0\n",
        "    for j in range(len(label)):\n",
        "      if label[j] == predictions[i][j]:\n",
        "        acc_hit += 1\n",
        "    acc_temp[i] = (acc_hit/len(label) * 100)\n",
        "  accuracy_list.append(acc_temp)\n",
        "  # store each value\n",
        "  ob_func_list.append(ob_func_val)\n",
        "  # escape rule\n",
        "  if iteration > 0:\n",
        "    escape_hit = 0\n",
        "    for i in range(3):\n",
        "      if abs(ob_func_list[iteration][i] - ob_func_list[iteration-1][i]) < 0.0001:\n",
        "        escape_hit += 1\n",
        "    if escape_hit == 3:\n",
        "      break\n",
        "  # update next theta values & iteration value\n",
        "  theta_list_over = theta_desc(theta_list_over, alpha, pointX, pointY, label, sigmoid_list[0], reg_params[0])\n",
        "  theta_list_just = theta_desc(theta_list_just, alpha, pointX, pointY, label, sigmoid_list[1], reg_params[1])\n",
        "  theta_list_under = theta_desc(theta_list_under, alpha, pointX, pointY, label, sigmoid_list[2], reg_params[2])\n",
        "  iteration += 1\n",
        "\n",
        "print(\"Training finished with\")\n",
        "print(\"iteration : \", iteration)\n",
        "print(\"training error : \", ob_func_list[-1])\n",
        "print(\"final accuracy : \", accuracy_list[-1])\n",
        "\n",
        "iterations = [i for i in range(iteration+1)]"
      ],
      "execution_count": 88,
      "outputs": [
        {
          "output_type": "stream",
          "text": [
            "Training finished with\n",
            "iteration :  1040\n",
            "training error :  [0.5801919981996774, 0.6243163213670896, 0.6481110812820736]\n",
            "final accuracy :  [82.20338983050848, 77.11864406779661, 76.27118644067797]\n"
          ],
          "name": "stdout"
        }
      ]
    },
    {
      "cell_type": "markdown",
      "metadata": {
        "id": "nqV0wmiNm1g3",
        "colab_type": "text"
      },
      "source": [
        "# Submission\n",
        "___"
      ]
    },
    {
      "cell_type": "markdown",
      "metadata": {
        "id": "elFINdq5m5aM",
        "colab_type": "text"
      },
      "source": [
        "## 1.  Plot the training data\n",
        "___\n"
      ]
    },
    {
      "cell_type": "code",
      "metadata": {
        "id": "2BSaHdvSnAPu",
        "colab_type": "code",
        "colab": {
          "base_uri": "https://localhost:8080/",
          "height": 575
        },
        "outputId": "cccda9b2-bbe2-48b5-a2f6-10e35a9ae473"
      },
      "source": [
        "# 1. Plot the training data\n",
        "plt.figure(figsize=(8,8))\n",
        "plt.title(\"1. Plot the training data\")\n",
        "plt.scatter(pointX0, pointY0, c='b')\n",
        "plt.scatter(pointX1, pointY1, c='r')\n",
        "plt.tight_layout()\n",
        "plt.gca().set_aspect('equal', adjustable='box')\n",
        "plt.show()"
      ],
      "execution_count": 89,
      "outputs": [
        {
          "output_type": "display_data",
          "data": {
            "image/png": "[encoded data removed]",
            "text/plain": [
              "<Figure size 576x576 with 1 Axes>"
            ]
          },
          "metadata": {
            "tags": [],
            "needs_background": "light"
          }
        }
      ]
    },
    {
      "cell_type": "markdown",
      "metadata": {
        "id": "ur9t4ACQUMzm",
        "colab_type": "text"
      },
      "source": [
        "## 2. Plot the training error with varying regularization parameters\n",
        "___\n",
        "$\\lambda_1 = 0.01$ for `over-fitting`  \n",
        "$\\lambda_2 = 0.05$ for `just-right`   \n",
        "$\\lambda_3 = 0.1$ for `under-fitting` "
      ]
    },
    {
      "cell_type": "code",
      "metadata": {
        "id": "BTDJM14oUTYD",
        "colab_type": "code",
        "colab": {
          "base_uri": "https://localhost:8080/",
          "height": 513
        },
        "outputId": "57005ab7-b32b-4fbb-c312-e3b6345f7d02"
      },
      "source": [
        "plt.figure(figsize=(8,8))\n",
        "plt.title(\"2. Plot the training error with varying regularization parameters\")\n",
        "plt.xlabel('iteration')\n",
        "plt.ylabel('training error')\n",
        "plt.plot(iterations, [i[0] for i in ob_func_list], c='r', label='$\\lambda_1$')\n",
        "plt.plot(iterations, [i[1] for i in ob_func_list], c='g', label='$\\lambda_1$')\n",
        "plt.plot(iterations, [i[2] for i in ob_func_list], c='b', label='$\\lambda_1$')\n",
        "plt.legend()\n",
        "plt.show()"
      ],
      "execution_count": 90,
      "outputs": [
        {
          "output_type": "display_data",
          "data": {
            "image/png": "[encoded data removed]",
            "text/plain": [
              "<Figure size 576x576 with 1 Axes>"
            ]
          },
          "metadata": {
            "tags": [],
            "needs_background": "light"
          }
        }
      ]
    }
  ]
}
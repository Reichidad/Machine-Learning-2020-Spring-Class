{
  "nbformat": 4,
  "nbformat_minor": 0,
  "metadata": {
    "colab": {
      "name": "assignment07.ipynb",
      "provenance": [],
      "mount_file_id": "1Wo-_A74c8tMzzYvczo65w3nekce-PJfq",
      "authorship_tag": "ABX9TyMIMiqW/IlAxY/EmZ3fvTCU",
      "include_colab_link": true
    },
    "kernelspec": {
      "name": "python3",
      "display_name": "Python 3"
    }
  },
  "cells": [
    {
      "cell_type": "markdown",
      "metadata": {
        "id": "view-in-github",
        "colab_type": "text"
      },
      "source": [
        "<a href=\"https://colab.research.google.com/github/Reichidad/Machine-Learning-2020-Spring-Class/blob/assignment07/assignment07.ipynb\" target=\"_parent\"><img src=\"https://colab.research.google.com/assets/colab-badge.svg\" alt=\"Open In Colab\"/></a>"
      ]
    },
    {
      "cell_type": "markdown",
      "metadata": {
        "id": "YyO9K24ymiEq",
        "colab_type": "text"
      },
      "source": [
        "# Logistic regression for a binary classification with a regularization - 20145822 김영현\n",
        "---"
      ]
    },
    {
      "cell_type": "markdown",
      "metadata": {
        "id": "fwiKjy-nmt1R",
        "colab_type": "text"
      },
      "source": [
        "# Training Code\n",
        "___"
      ]
    },
    {
      "cell_type": "code",
      "metadata": {
        "id": "vdvzR_3VmMyn",
        "colab_type": "code",
        "colab": {}
      },
      "source": [
        "import numpy as np\n",
        "import matplotlib.pyplot as plt\n",
        "import math\n",
        "\n",
        "# data input\n",
        "data    = np.genfromtxt(\"/content/drive/My Drive/Colab Notebooks/data07/data-nonlinear.txt\", delimiter=',')\n",
        "\n",
        "pointX  = data[:, 0]\n",
        "pointY  = data[:, 1]\n",
        "label   = data[:, 2]\n",
        "\n",
        "pointX0 = pointX[label == 0]\n",
        "pointY0 = pointY[label == 0]\n",
        "\n",
        "pointX1 = pointX[label == 1]\n",
        "pointY1 = pointY[label == 1]\n",
        "\n",
        "# function definition\n",
        "# calculate f_k value\n",
        "def func_k_calc(x, y, x_exp, y_exp):\n",
        "  return (x ** x_exp) * (y ** y_exp)\n",
        "# calculate g function value\n",
        "def func_calc(theta_list, x, y):\n",
        "  func_val = 0\n",
        "  for i in range(10):\n",
        "    for j in range(10):\n",
        "      func_val += theta_list[i][j] * func_k_calc(x, y, i, j)\n",
        "  return func_val\n",
        "# calculate z values\n",
        "def z_calc(theta_list, pointX, pointY):\n",
        "  z = []\n",
        "  for i in range(len(pointX)):\n",
        "    z_iteration = func_calc(theta_list, pointX[i], pointY[i])\n",
        "    z.append(z_iteration)\n",
        "  return z\n",
        "# calculate sigmoid values\n",
        "def calc_sigmoid(z):\n",
        "  sigmoid = []\n",
        "  for i in range(len(z)):\n",
        "    sigmoid.append(1/(1+math.exp(-z[i])))\n",
        "  return sigmoid\n",
        "# calculate objective function value\n",
        "def ob_func(label, sigmoid, reg_param, theta_list):\n",
        "  sum_left = 0\n",
        "  for i in range(len(label)):\n",
        "    oprd_left = (-1*label[i]) * math.log(sigmoid[i])\n",
        "    oprd_right = (1-label[i]) * math.log(1-sigmoid[i])\n",
        "    sum_left += oprd_left - oprd_right\n",
        "  sum_left = sum_left/len(label)\n",
        "  sum_right = 0\n",
        "  for i in range(10):\n",
        "    for j in range(10):\n",
        "      sum_right += theta_list[i][j] ** 2\n",
        "  sum_right = sum_right * reg_param / 2\n",
        "\n",
        "  return sum_left + sum_right\n",
        "# calculate next theta value\n",
        "def theta_desc(theta_list, alpha, pointX, pointY, label, sigmoid, reg_param):\n",
        "  sum = np.zeros((10,10))\n",
        "  for k in range(len(sigmoid)):\n",
        "    for i in range(10):\n",
        "      for j in range(10):\n",
        "        sum[i][j] += (sigmoid[k] - label[k]) * func_k_calc(pointX[k], pointY[k], i, j)\n",
        "  for i in range(10):\n",
        "      for j in range(10):\n",
        "        sum[i][j] = alpha * (sum[i][j] / len(sigmoid) + reg_param * theta_list[i][j])\n",
        "        theta_list[i][j] = theta_list[i][j] - sum[i][j]\n",
        "  return theta_list\n",
        "\n",
        "# variable declaration\n",
        "# array for store each regularization's theta\n",
        "theta_list_over = np.ones((10,10))\n",
        "theta_list_just = np.ones((10,10))\n",
        "theta_list_under = np.ones((10,10))\n",
        "# regularization control parameter [over, just, under]\n",
        "reg_params = [0.001, 0.01, 0.1]\n",
        "# learning rate\n",
        "alpha = 0.01\n",
        "# iteration counter\n",
        "iteration = 0\n",
        "# list for store data at every iteration\n",
        "ob_func_list = []\n",
        "accuracy_list = []\n",
        "\n",
        "# start iteration\n",
        "while True:\n",
        "  # calculate each value for this iteration\n",
        "  z_list_over = z_calc(theta_list_over, pointX, pointY)\n",
        "  z_list_just = z_calc(theta_list_under, pointX, pointY)\n",
        "  z_list_under =  z_calc(theta_list_just, pointX, pointY)\n",
        "  z_list = [z_list_over, z_list_just, z_list_under]\n",
        "  theta_list = [theta_list_over, theta_list_just, theta_list_under]\n",
        "  sigmoid_list = []\n",
        "  for i in range(3):\n",
        "    sigmoid_list.append(calc_sigmoid(z_list[i])) \n",
        "  ob_func_val = []\n",
        "  for i in range(3):\n",
        "    ob_func_val.append(ob_func(label, sigmoid_list[i], reg_params[i], theta_list[i]))\n",
        "  # store predictions\n",
        "  predictions = []\n",
        "  for i in range(3):\n",
        "    predictions_temp = []\n",
        "    for j in z_list[i]:\n",
        "      if j < 0:\n",
        "        predictions_temp.append(0)\n",
        "      else:\n",
        "        predictions_temp.append(1)\n",
        "    predictions.append(predictions_temp)\n",
        "  # calculate accuracy\n",
        "  acc_temp = [0, 0, 0]\n",
        "  for i in range(3):\n",
        "    acc_hit = 0\n",
        "    for j in range(len(label)):\n",
        "      if label[j] == predictions[i][j]:\n",
        "        acc_hit += 1\n",
        "    acc_temp[i] = (acc_hit/len(label) * 100)\n",
        "  accuracy_list.append(acc_temp)\n",
        "  # store each value\n",
        "  ob_func_list.append(ob_func_val)\n",
        "  # escape rule\n",
        "  if iteration > 0:\n",
        "    if iteration % 1000 == 0:\n",
        "      print(\"iteration : \", iteration)\n",
        "      print(\"training error : \", ob_func_list[-1])\n",
        "      print(\"final accuracy : \", accuracy_list[-1])\n",
        "    escape_hit = 0\n",
        "    for i in range(3):\n",
        "      if abs(ob_func_list[iteration][i] - ob_func_list[iteration-1][i]) < 0.000001:\n",
        "        escape_hit += 1\n",
        "    if escape_hit == 3:\n",
        "      break\n",
        "  # update next theta values & iteration value\n",
        "  theta_list_over = theta_desc(theta_list_over, alpha, pointX, pointY, label, sigmoid_list[0], reg_params[0])\n",
        "  theta_list_just = theta_desc(theta_list_just, alpha, pointX, pointY, label, sigmoid_list[1], reg_params[1])\n",
        "  theta_list_under = theta_desc(theta_list_under, alpha, pointX, pointY, label, sigmoid_list[2], reg_params[2])\n",
        "  iteration += 1\n",
        "\n",
        "print(\"Training finished with\")\n",
        "print(\"iteration : \", iteration)\n",
        "print(\"training error : \", ob_func_list[-1])\n",
        "print(\"final accuracy : \", accuracy_list[-1])\n",
        "\n",
        "iterations = [i for i in range(iteration+1)]"
      ],
      "execution_count": 0,
      "outputs": []
    },
    {
      "cell_type": "markdown",
      "metadata": {
        "id": "nqV0wmiNm1g3",
        "colab_type": "text"
      },
      "source": [
        "# Submission\n",
        "___"
      ]
    },
    {
      "cell_type": "markdown",
      "metadata": {
        "id": "elFINdq5m5aM",
        "colab_type": "text"
      },
      "source": [
        "## 1.  Plot the training data\n",
        "___\n"
      ]
    },
    {
      "cell_type": "code",
      "metadata": {
        "id": "2BSaHdvSnAPu",
        "colab_type": "code",
        "colab": {
          "base_uri": "https://localhost:8080/",
          "height": 593
        },
        "outputId": "196ee1c6-d720-4bc2-d86d-3d8400f6b38e"
      },
      "source": [
        "# 1. Plot the training data\n",
        "plt.figure(figsize=(8,8))\n",
        "plt.title(\"1. Plot the training data\")\n",
        "plt.scatter(pointX0, pointY0, c='b')\n",
        "plt.scatter(pointX1, pointY1, c='r')\n",
        "plt.tight_layout()\n",
        "plt.gca().set_aspect('equal', adjustable='box')\n",
        "plt.show()"
      ],
      "execution_count": 4,
      "outputs": [
        {
          "output_type": "stream",
          "text": [
            "No handles with labels found to put in legend.\n"
          ],
          "name": "stderr"
        },
        {
          "output_type": "display_data",
          "data": {
            "image/png": "[encoded data removed]",
            "text/plain": [
              "<Figure size 576x576 with 1 Axes>"
            ]
          },
          "metadata": {
            "tags": [],
            "needs_background": "light"
          }
        }
      ]
    }
  ]
}
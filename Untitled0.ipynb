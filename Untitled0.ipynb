{
  "nbformat": 4,
  "nbformat_minor": 0,
  "metadata": {
    "colab": {
      "name": "Untitled0.ipynb",
      "provenance": [],
      "toc_visible": true,
      "mount_file_id": "1i5-OW4ua7fhXUyjWriIfNd4j9WT14SfU",
      "authorship_tag": "ABX9TyPitmP5Z0vCFpB3rQwZQRZO",
      "include_colab_link": true
    },
    "kernelspec": {
      "name": "python3",
      "display_name": "Python 3"
    }
  },
  "cells": [
    {
      "cell_type": "markdown",
      "metadata": {
        "id": "view-in-github",
        "colab_type": "text"
      },
      "source": [
        "<a href=\"https://colab.research.google.com/github/Reichidad/Machine-Learning-2020-Spring-Class/blob/assignment05/Untitled0.ipynb\" target=\"_parent\"><img src=\"https://colab.research.google.com/assets/colab-badge.svg\" alt=\"Open In Colab\"/></a>"
      ]
    },
    {
      "cell_type": "markdown",
      "metadata": {
        "id": "RarqI2cAZHJp",
        "colab_type": "text"
      },
      "source": [
        "# Assignment 05. Logistic regression for a binary classification - 20145822 김영현\n",
        "---\n",
        "## 1. Plot the training data\n",
        "\n",
        "## 2. Plot the estimated parameters\n",
        "\n",
        "## 3.  Plot the training error\n",
        "\n",
        "## 4. Plot the obtained classifier"
      ]
    },
    {
      "cell_type": "code",
      "metadata": {
        "id": "Gg0YlfvXZdvk",
        "colab_type": "code",
        "colab": {
          "base_uri": "https://localhost:8080/",
          "height": 498
        },
        "outputId": "aa3018ac-ea13-4a45-bffd-7c0e4b4a28c1"
      },
      "source": [
        "import numpy as np\n",
        "import matplotlib.pyplot as plt\n",
        "\n",
        "data    = np.genfromtxt(\"/content/drive/My Drive/Colab Notebooks/data05/data.txt\", delimiter=',')\n",
        "\n",
        "x       = data[:, 0]\n",
        "y       = data[:, 1]\n",
        "label   = data[:, 2]\n",
        "\n",
        "x_label0    = x[label == 0]\n",
        "x_label1    = x[label == 1]\n",
        "\n",
        "y_label0    = y[label == 0]\n",
        "y_label1    = y[label == 1]\n",
        "\n",
        "def calc_z(theta_0, theta_1, theta_2, x, y):\n",
        "  z= []\n",
        "  for i in range(len(x)):\n",
        "    z.append(theta_0 + (theta_1 * x[i]) + (theta_2 * y[i]))\n",
        "    return z\n",
        "\n",
        "def calc_sigmoid(z):\n",
        "  return z\n",
        "\n",
        "\n",
        "\n",
        "plt.figure(1,figsize=(8, 8))\n",
        "plt.title('1. Plot the training data')\n",
        "plt.xlabel('x')\n",
        "plt.ylabel('y')\n",
        "plt.scatter(x_label0, y_label0, alpha=0.5, c='b', label='label0')\n",
        "plt.scatter(x_label1, y_label1, alpha=0.5, c='r', label='label1')\n",
        "plt.show()\n"
      ],
      "execution_count": 8,
      "outputs": [
        {
          "output_type": "display_data",
          "data": {
            "image/png": "[encoded data removed]",
            "text/plain": [
              "<Figure size 576x576 with 1 Axes>"
            ]
          },
          "metadata": {
            "tags": [],
            "needs_background": "light"
          }
        }
      ]
    }
  ]
}
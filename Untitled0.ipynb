{
  "nbformat": 4,
  "nbformat_minor": 0,
  "metadata": {
    "colab": {
      "name": "Untitled0.ipynb",
      "provenance": [],
      "toc_visible": true,
      "mount_file_id": "1i5-OW4ua7fhXUyjWriIfNd4j9WT14SfU",
      "authorship_tag": "ABX9TyPRC3rbd69Y76k7soOHWMc3",
      "include_colab_link": true
    },
    "kernelspec": {
      "name": "python3",
      "display_name": "Python 3"
    }
  },
  "cells": [
    {
      "cell_type": "markdown",
      "metadata": {
        "id": "view-in-github",
        "colab_type": "text"
      },
      "source": [
        "<a href=\"https://colab.research.google.com/github/Reichidad/Machine-Learning-2020-Spring-Class/blob/assignment05/Untitled0.ipynb\" target=\"_parent\"><img src=\"https://colab.research.google.com/assets/colab-badge.svg\" alt=\"Open In Colab\"/></a>"
      ]
    },
    {
      "cell_type": "markdown",
      "metadata": {
        "id": "RarqI2cAZHJp",
        "colab_type": "text"
      },
      "source": [
        "# Assignment 05. Logistic regression for a binary classification - 20145822 김영현\n",
        "---\n",
        "## 1. Plot the training data\n",
        "\n",
        "## 2. Plot the estimated parameters\n",
        "\n",
        "## 3.  Plot the training error\n",
        "\n",
        "## 4. Plot the obtained classifier"
      ]
    },
    {
      "cell_type": "code",
      "metadata": {
        "id": "Gg0YlfvXZdvk",
        "colab_type": "code",
        "colab": {
          "base_uri": "https://localhost:8080/",
          "height": 1000
        },
        "outputId": "a1872c9b-a895-470b-96d0-6c8fd56f1af8"
      },
      "source": [
        "import numpy as np\n",
        "import matplotlib.pyplot as plt\n",
        "\n",
        "data    = np.genfromtxt(\"/content/drive/My Drive/Colab Notebooks/data05/data.txt\", delimiter=',')\n",
        "\n",
        "x       = data[:, 0]\n",
        "y       = data[:, 1]\n",
        "label   = data[:, 2]\n",
        "\n",
        "print(x)\n",
        "print(y)\n",
        "print(label)\n",
        "x_label0    = x[label == 0]\n",
        "x_label1    = x[label == 1]\n",
        "\n",
        "y_label0    = y[label == 0]\n",
        "y_label1    = y[label == 1]\n",
        "\n",
        "def calc_z(theta_0, theta_1, theta_2, x, y):\n",
        "  z= []\n",
        "  for i in range(len(x)):\n",
        "    z.append(theta_0 + (theta_1 * x[i]) + (theta_2 * y[i]))\n",
        "  return z\n",
        "\n",
        "def calc_sigmoid(z):\n",
        "  sigmoid = []\n",
        "  for i in range(len(z)):\n",
        "    sigmoid.append(1/(1+np.exp(-1*z)))\n",
        "  return sigmoid\n",
        "\n",
        "def ob_func(label, sigmoid):\n",
        "  sum = 0\n",
        "  for i in range(len(label)):\n",
        "    oprd_left = (-1*label[i]) * np.log(sigmoid[i])\n",
        "    oprd_right = (1-label[i]) * np.log(1-sigmoid[i])\n",
        "    sum += oprd_left - oprd_right\n",
        "  return sum/len(label)\n",
        "\n",
        "def theta_desc(theta, alpha, x, y, label, sigmoid, key):\n",
        "  sum = 0\n",
        "  for i in range(len(sigmoid)):\n",
        "    if key == 0:\n",
        "      sum += sigmoid[i] - label[i]\n",
        "    elif key == 1:\n",
        "      sum += (sigmoid[i] - label[i]) * x[i]\n",
        "    elif key == 2:\n",
        "      sum += (sigmoid[i] - label[i]) * y[i]\n",
        "  return theta - (alpha * sum / len(sigmoid))\n",
        "\n",
        "\n",
        "\n",
        "\n",
        "\n",
        "plt.figure(1,figsize=(8, 8))\n",
        "plt.title('1. Plot the training data')\n",
        "plt.xlabel('x')\n",
        "plt.ylabel('y')\n",
        "plt.scatter(x_label0, y_label0, alpha=0.5, c='b', label='label0')\n",
        "plt.scatter(x_label1, y_label1, alpha=0.5, c='r', label='label1')\n",
        "plt.show()\n"
      ],
      "execution_count": 10,
      "outputs": [
        {
          "output_type": "stream",
          "text": [
            "[34.62365962 30.28671077 35.84740877 60.18259939 79.03273605 45.08327748\n",
            " 61.10666454 75.02474557 76.0987867  84.43281996 95.86155507 75.01365839\n",
            " 82.30705337 69.36458876 39.53833914 53.97105215 69.07014406 67.94685548\n",
            " 70.66150955 76.97878373 67.37202755 89.67677575 50.53478829 34.21206098\n",
            " 77.92409145 62.27101367 80.19018075 93.1143888  61.83020602 38.7858038\n",
            " 61.37928945 85.40451939 52.10797973 52.04540477 40.23689374 54.63510555\n",
            " 33.91550011 64.17698887 74.78925296 34.18364003 83.90239366 51.54772027\n",
            " 94.44336777 82.36875376 51.04775177 62.22267576 77.19303493 97.77159928\n",
            " 62.0730638  91.5649745  79.94481794 99.27252693 90.54671411 34.52451385\n",
            " 50.28649612 49.58667722 97.64563396 32.57720017 74.24869137 71.79646206\n",
            " 75.39561147 35.28611282 56.2538175  30.05882245 44.66826172 66.56089447\n",
            " 40.45755098 49.07256322 80.27957401 66.74671857 32.72283304 64.03932042\n",
            " 72.34649423 60.45788574 58.84095622 99.8278578  47.26426911 50.4581598\n",
            " 60.45555629 82.22666158 88.91389642 94.83450672 67.31925747 57.23870632\n",
            " 80.366756   68.46852179 42.07545454 75.47770201 78.63542435 52.34800399\n",
            " 94.09433113 90.44855097 55.48216114 74.49269242 89.84580671 83.48916274\n",
            " 42.26170081 99.31500881 55.34001756 74.775893  ]\n",
            "[78.02469282 43.89499752 72.90219803 86.3085521  75.34437644 56.31637178\n",
            " 96.51142588 46.55401354 87.42056972 43.53339331 38.22527806 30.60326323\n",
            " 76.4819633  97.71869196 76.03681085 89.20735014 52.74046973 46.67857411\n",
            " 92.92713789 47.57596365 42.83843832 65.79936593 48.85581153 44.2095286\n",
            " 68.97235999 69.95445795 44.82162893 38.80067034 50.25610789 64.99568096\n",
            " 72.80788731 57.05198398 63.12762377 69.43286012 71.16774802 52.21388588\n",
            " 98.86943574 80.90806059 41.57341523 75.23772034 56.30804622 46.85629026\n",
            " 65.56892161 40.61825516 45.82270146 52.06099195 70.4582     86.72782233\n",
            " 96.76882412 88.69629255 74.16311935 60.999031   43.39060181 60.39634246\n",
            " 49.80453881 59.80895099 68.86157272 95.59854761 69.82457123 78.45356225\n",
            " 85.75993667 47.02051395 39.26147251 49.59297387 66.45008615 41.09209808\n",
            " 97.53518549 51.88321182 92.11606081 60.99139403 43.30717306 78.03168802\n",
            " 96.22759297 73.0949981  75.85844831 72.36925193 88.475865   75.80985953\n",
            " 42.50840944 42.71987854 69.8037889  45.6943068  66.58935318 59.51428198\n",
            " 90.9601479  85.5943071  78.844786   90.424539   96.64742717 60.76950526\n",
            " 77.15910509 87.50879176 35.57070347 84.84513685 45.35828361 48.3802858\n",
            " 87.10385094 68.77540947 64.93193801 89.5298129 ]\n",
            "[0. 0. 0. 1. 1. 0. 1. 1. 1. 1. 0. 0. 1. 1. 0. 1. 1. 0. 1. 1. 0. 1. 0. 0.\n",
            " 1. 1. 1. 0. 0. 0. 1. 1. 0. 1. 0. 0. 0. 1. 0. 0. 1. 0. 1. 0. 0. 0. 1. 1.\n",
            " 1. 1. 1. 1. 1. 0. 0. 0. 1. 0. 1. 1. 1. 0. 0. 0. 0. 0. 1. 0. 1. 1. 0. 1.\n",
            " 1. 1. 1. 1. 1. 1. 0. 0. 1. 1. 1. 1. 1. 1. 0. 1. 1. 0. 1. 1. 0. 1. 1. 1.\n",
            " 1. 1. 1. 1.]\n"
          ],
          "name": "stdout"
        },
        {
          "output_type": "display_data",
          "data": {
            "image/png": "[encoded data removed]",
            "text/plain": [
              "<Figure size 576x576 with 1 Axes>"
            ]
          },
          "metadata": {
            "tags": [],
            "needs_background": "light"
          }
        }
      ]
    }
  ]
}
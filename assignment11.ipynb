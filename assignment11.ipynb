{
  "nbformat": 4,
  "nbformat_minor": 0,
  "metadata": {
    "colab": {
      "name": "assignment11.ipynb",
      "provenance": [],
      "toc_visible": true,
      "mount_file_id": "1JSLnvJ7nRlJgeupYWLOyhKDhOV8xuar1",
      "authorship_tag": "ABX9TyOu0CX/twS8Pa9emuCXqp3C",
      "include_colab_link": true
    },
    "kernelspec": {
      "name": "python3",
      "display_name": "Python 3"
    },
    "accelerator": "GPU"
  },
  "cells": [
    {
      "cell_type": "markdown",
      "metadata": {
        "id": "view-in-github",
        "colab_type": "text"
      },
      "source": [
        "<a href=\"https://colab.research.google.com/github/Reichidad/Machine-Learning-2020-Spring-Class/blob/assignment11/assignment11.ipynb\" target=\"_parent\"><img src=\"https://colab.research.google.com/assets/colab-badge.svg\" alt=\"Open In Colab\"/></a>"
      ]
    },
    {
      "cell_type": "markdown",
      "metadata": {
        "id": "quxFN69mw0Ko",
        "colab_type": "text"
      },
      "source": [
        "# Text classification using neural networks\n",
        "20145822 김영현\n"
      ]
    },
    {
      "cell_type": "markdown",
      "metadata": {
        "id": "_3o_Ll5WyOw1",
        "colab_type": "text"
      },
      "source": [
        "## Decompress movie_review.zip"
      ]
    },
    {
      "cell_type": "code",
      "metadata": {
        "id": "QJvQOh0aydAr",
        "colab_type": "code",
        "colab": {
          "base_uri": "https://localhost:8080/",
          "height": 35
        },
        "outputId": "623a00fd-660c-4fe1-89de-4c64c7e81bdb"
      },
      "source": [
        "from zipfile import ZipFile\n",
        "file_name = \"/content/drive/My Drive/Colab Notebooks/data11/movie_review.zip\"\n",
        "\n",
        "with ZipFile(file_name, 'r') as zip:\n",
        "  zip.extractall()\n",
        "  print('Decompress Done')"
      ],
      "execution_count": 2,
      "outputs": [
        {
          "output_type": "stream",
          "text": [
            "Decompress Done\n"
          ],
          "name": "stdout"
        }
      ]
    },
    {
      "cell_type": "markdown",
      "metadata": {
        "id": "ZRlhrUWAzjp0",
        "colab_type": "text"
      },
      "source": [
        "## Install CuPy"
      ]
    },
    {
      "cell_type": "code",
      "metadata": {
        "id": "GLyEHCIwzmQy",
        "colab_type": "code",
        "colab": {
          "base_uri": "https://localhost:8080/",
          "height": 89
        },
        "outputId": "819f1f2d-e5c3-4ceb-90da-5a8e9a48a529"
      },
      "source": [
        "!pip install cupy-cuda101"
      ],
      "execution_count": 3,
      "outputs": [
        {
          "output_type": "stream",
          "text": [
            "Requirement already satisfied: cupy-cuda101 in /usr/local/lib/python3.6/dist-packages (6.5.0)\n",
            "Requirement already satisfied: six>=1.9.0 in /usr/local/lib/python3.6/dist-packages (from cupy-cuda101) (1.12.0)\n",
            "Requirement already satisfied: numpy>=1.9.0 in /usr/local/lib/python3.6/dist-packages (from cupy-cuda101) (1.18.5)\n",
            "Requirement already satisfied: fastrlock>=0.3 in /usr/local/lib/python3.6/dist-packages (from cupy-cuda101) (0.5)\n"
          ],
          "name": "stdout"
        }
      ]
    },
    {
      "cell_type": "markdown",
      "metadata": {
        "id": "oEMtF5JZw5Rp",
        "colab_type": "text"
      },
      "source": [
        "## Codes for Data Preprocessing"
      ]
    },
    {
      "cell_type": "code",
      "metadata": {
        "id": "0EL7j5H8wrWP",
        "colab_type": "code",
        "colab": {
          "base_uri": "https://localhost:8080/",
          "height": 89
        },
        "outputId": "66d50744-64ea-4256-d864-d613f45ff862"
      },
      "source": [
        "import numpy as np\n",
        "import cupy as cp\n",
        "import re\n",
        "import nltk\n",
        "from sklearn.datasets import load_files\n",
        "nltk.download('stopwords')\n",
        "nltk.download('wordnet')\n",
        "import pickle\n",
        "from nltk.corpus import stopwords\n",
        "from nltk.stem import WordNetLemmatizer\n",
        "from sklearn.feature_extraction.text import CountVectorizer\n",
        "from sklearn.feature_extraction.text import TfidfTransformer\n",
        "from sklearn.model_selection import train_test_split\n",
        "\n",
        "\n",
        "review_data = load_files(r\"movie_review\")\n",
        "X, y = review_data.data, review_data.target\n",
        "\n",
        "documents = []\n",
        "\n",
        "stemmer = WordNetLemmatizer()\n",
        "\n",
        "for sen in range(0, len(X)):\n",
        "    # Remove all the special characters\n",
        "    document = re.sub(r'\\W', ' ', str(X[sen]))\n",
        "    \n",
        "    # remove all single characters\n",
        "    document = re.sub(r'\\s+[a-zA-Z]\\s+', ' ', document)\n",
        "    \n",
        "    # Remove single characters from the start\n",
        "    document = re.sub(r'\\^[a-zA-Z]\\s+', ' ', document) \n",
        "    \n",
        "    # Substituting multiple spaces with single space\n",
        "    document = re.sub(r'\\s+', ' ', document, flags=re.I)\n",
        "    \n",
        "    # Removing prefixed 'b'\n",
        "    document = re.sub(r'^b\\s+', '', document)\n",
        "    \n",
        "    # Converting to Lowercase\n",
        "    document = document.lower()\n",
        "    \n",
        "    # Lemmatization\n",
        "    document = document.split()\n",
        "    document = [stemmer.lemmatize(word) for word in document]\n",
        "    document = ' '.join(document)\n",
        "    \n",
        "    documents.append(document)\n",
        "\n",
        "vectorizer = CountVectorizer(max_features=1500, min_df=5, max_df=0.7, stop_words=stopwords.words('english'))\n",
        "X = vectorizer.fit_transform(documents).toarray()\n",
        "\n",
        "tfidfconverter = TfidfTransformer()\n",
        "X = tfidfconverter.fit_transform(X).toarray()\n",
        "\n",
        "X_train, X_test, y_train, y_test = train_test_split(X, y, test_size=0.3, shuffle=False)"
      ],
      "execution_count": 4,
      "outputs": [
        {
          "output_type": "stream",
          "text": [
            "[nltk_data] Downloading package stopwords to /root/nltk_data...\n",
            "[nltk_data]   Unzipping corpora/stopwords.zip.\n",
            "[nltk_data] Downloading package wordnet to /root/nltk_data...\n",
            "[nltk_data]   Unzipping corpora/wordnet.zip.\n"
          ],
          "name": "stdout"
        }
      ]
    },
    {
      "cell_type": "markdown",
      "metadata": {
        "id": "O_ogH8A85_Nk",
        "colab_type": "text"
      },
      "source": [
        "## Codes for Training & Testing"
      ]
    },
    {
      "cell_type": "code",
      "metadata": {
        "id": "9gACVONf61m6",
        "colab_type": "code",
        "colab": {}
      },
      "source": [
        "num_train = len(X_train)\n",
        "num_test = len(X_test)\n",
        "\n",
        "# list for store all iterations\n",
        "train_loss_list = []\n",
        "train_accr_list = []\n",
        "test_loss_list = []\n",
        "test_accr_list = []\n",
        "\n",
        "# theta initialization with normal distribution N(0, 1)\n",
        "theta_u = cp.random.randn(196, 1501)\n",
        "theta_v = cp.random.randn(49, 197)\n",
        "theta_w = cp.random.randn(1,50)\n",
        "# learning values\n",
        "alpha = 0.01\n",
        "lambda_reg = 20\n",
        "\n",
        "\n",
        "# fully connected calculation with bias(1)\n",
        "def func_calc(theta_list, op_list):\n",
        "  return cp.matmul(theta_list, op_list)\n",
        "\n",
        "\n",
        "# sigmoid calculation\n",
        "def sigmoid(val):\n",
        "  return 1/(1+cp.exp(-val))\n",
        "\n",
        "\n",
        "# derivative of the sigmoid\n",
        "def d_sigmoid(val):\n",
        "  sig_now = sigmoid(val)\n",
        "  return sig_now * (1 - sig_now)\n",
        "\n",
        "\n",
        "# objective function\n",
        "def ob_func(labels, results, num):\n",
        "  sum = 0\n",
        "  for j in range(num):\n",
        "    sum += (-labels[j] * log_fix(results[j])) - ((1 - labels[j]) * log_fix(1 - results[j]))\n",
        "  return sum/num + ob_func_reg()\n",
        "\n",
        "\n",
        "def log_fix(n):\n",
        "  float_min = 0.0000000000000001\n",
        "  n[n<float_min] = float_min\n",
        "  return cp.log(n)\n",
        "\n",
        "\n",
        "# addition loss with regularization\n",
        "def ob_func_reg():\n",
        "  avg_u = cp.mean(theta_u**2)\n",
        "  avg_v = cp.mean(theta_v**2)\n",
        "  avg_w = cp.mean(theta_w**2)\n",
        "  size = theta_u.size + theta_v.size + theta_w.size\n",
        "  return lambda_reg * (avg_u + avg_v + avg_w) / (2 * size) \n",
        "\n",
        "\n",
        "# addition gradient decent with regularization\n",
        "def g_d_reg(theta):\n",
        "  size = theta_u.size + theta_v.size + theta_w.size\n",
        "  return lambda_reg * theta / size\n",
        "\n",
        "\n",
        "# main function for 1 iteration\n",
        "def train_once():\n",
        "  global theta_u, theta_v, theta_w\n",
        "  # --------------------------\n",
        "  # training code\n",
        "  # --------------------------\n",
        "  # data storage for training\n",
        "  result_set = cp.empty(num_train)\n",
        "  y_pred_train = cp.empty(num_train)\n",
        "  accr = 0\n",
        "  theta_u_next = cp.zeros((196, 1501))\n",
        "  theta_v_next = cp.zeros((49, 197))\n",
        "  theta_w_next = cp.zeros((1, 50))\n",
        "  \n",
        "  # training \n",
        "  for num in range(num_train):\n",
        "    # forward-propagation\n",
        "    x = X_train[num]\n",
        "    y = func_calc(theta_u, cp.array(np.insert(x, 0, 1)))\n",
        "    y_sigmoid = sigmoid(y)\n",
        "    z= func_calc(theta_v, cp.array(np.insert(cp.asnumpy(y_sigmoid), 0, 1)))\n",
        "    z_sigmoid = sigmoid(z)\n",
        "    h = func_calc(theta_w, cp.array(np.insert(cp.asnumpy(z_sigmoid), 0, 1)))\n",
        "    h_sigmoid = sigmoid(h)\n",
        "    result_set[num] = h_sigmoid[0]\n",
        "\n",
        "    # accuracy count\n",
        "    temp_val = 0 if h_sigmoid[0] < 0.5 else 1\n",
        "    y_pred_train[num] = temp_val \n",
        "    if temp_val == y_train[num]:\n",
        "      accr += 1\n",
        "\n",
        "    # gradient descent with back-propagation\n",
        "    d_first = (1-y_train[num])/(1-h_sigmoid) - y_train[num]/h_sigmoid\n",
        "    theta_w_next += cp.matmul(d_first, cp.array(np.insert(cp.asnumpy(z_sigmoid), 0, 1)).reshape(1,50))\n",
        "    \n",
        "    d_second = cp.matmul(d_first, theta_w)\n",
        "    for i in range(1,50):\n",
        "      d_second[i] *= d_sigmoid(z[i-1])\n",
        "    theta_v_next += cp.matmul(d_second[1:].reshape(49, 1), cp.array(np.insert(cp.asnumpy(y_sigmoid), 0, 1)).reshape(1, 197))\n",
        "\n",
        "    d_third = cp.matmul(d_second[1:50], theta_v)\n",
        "    for i in range(1,197):\n",
        "      d_third[i] *= d_sigmoid(y[i-1])\n",
        "    theta_u_next += cp.matmul(d_third[1:].reshape(196,1), cp.array(np.insert(cp.asnumpy(x), 0, 1)).reshape(1, 1501))\n",
        "\n",
        "  # store train_loss & train_accuracy after training done\n",
        "  train_loss = ob_func(y_train, result_set, num_train)\n",
        "  train_loss_list.append(train_loss)\n",
        "  accr = accr * 100 / num_train\n",
        "  train_accr_list.append(accr)\n",
        "\n",
        "  # --------------------------\n",
        "  # testing code\n",
        "  # --------------------------\n",
        "  # data storage for testing\n",
        "  test_result_set = cp.empty(num_test)\n",
        "  y_pred_test = cp.empty(num_test)\n",
        "  test_accr = 0\n",
        "\n",
        "  # testing\n",
        "  for num in range(num_test):\n",
        "    # forward-propagation only in testing\n",
        "    x = X_test[num]\n",
        "    y = func_calc(theta_u, cp.array(np.insert(x, 0, 1)))\n",
        "    y_sigmoid = sigmoid(y)\n",
        "    z= func_calc(theta_v, cp.array(np.insert(cp.asnumpy(y_sigmoid), 0, 1)))\n",
        "    z_sigmoid = sigmoid(z)\n",
        "    h = func_calc(theta_w, cp.array(np.insert(cp.asnumpy(z_sigmoid), 0, 1)))\n",
        "    h_sigmoid = sigmoid(h)\n",
        "    test_result_set[num] = h_sigmoid[0]\n",
        "\n",
        "    # accuracy count\n",
        "    temp_val = 0 if h_sigmoid[0] < 0.5 else 1\n",
        "    y_pred_test[num] = temp_val \n",
        "    if temp_val == y_test[num]:\n",
        "      test_accr += 1\n",
        "  # store test_loss & test_accuracy after testing done\n",
        "  test_loss = ob_func(y_test, test_result_set, num_test)\n",
        "  test_loss_list.append(test_loss)\n",
        "  test_accr = test_accr * 100 / num_test\n",
        "  test_accr_list.append(test_accr)\n",
        "\n",
        "  # update theta\n",
        "  theta_u -= (alpha * (theta_u_next/num_train + g_d_reg(theta_u)))\n",
        "  theta_v -= (alpha * (theta_v_next/num_train + g_d_reg(theta_v)))\n",
        "  theta_w -= (alpha * (theta_w_next/num_train + g_d_reg(theta_w)))\n",
        "\n",
        "  return y_pred_train, y_pred_test\n",
        "# start iteration\n",
        "iteration = 0\n",
        "limit = 1000\n",
        "while iteration < limit:\n",
        "  y_pred_train, y_pred_test = train_once()\n",
        "  print(iteration)\n",
        "  print(\"train / test loss :\", train_loss_list[-1], test_loss_list[-1])\n",
        "  print(\"train / test accr :\", train_accr_list[-1], test_accr_list[-1])\n",
        "  iteration += 1"
      ],
      "execution_count": null,
      "outputs": []
    },
    {
      "cell_type": "markdown",
      "metadata": {
        "id": "B16acCHxzpNQ",
        "colab_type": "text"
      },
      "source": [
        "## Submissions"
      ]
    },
    {
      "cell_type": "markdown",
      "metadata": {
        "id": "h6-ZnVeyzwn7",
        "colab_type": "text"
      },
      "source": [
        "### 1. Plot the loss curve"
      ]
    },
    {
      "cell_type": "code",
      "metadata": {
        "id": "3lJKpFFtz2as",
        "colab_type": "code",
        "colab": {
          "base_uri": "https://localhost:8080/",
          "height": 513
        },
        "outputId": "863340c7-3b84-4489-ca23-e78b1733fadd"
      },
      "source": [
        "import matplotlib.pyplot as plt\n",
        "plt.figure(figsize=(8,8))\n",
        "plt.title(\"1. Plot the loss curve\")\n",
        "plt.xlabel(\"iteration\")\n",
        "plt.ylabel(\"loss\")\n",
        "plt.plot([i for i in range(iteration)], train_loss_list, label=\"training_loss\", c='b')\n",
        "plt.plot([i for i in range(iteration)], test_loss_list, label=\"testing_loss\", c='r')\n",
        "plt.legend()\n",
        "plt.show()"
      ],
      "execution_count": 20,
      "outputs": [
        {
          "output_type": "display_data",
          "data": {
            "image/png": "[encoded data removed]",
            "text/plain": [
              "<Figure size 576x576 with 1 Axes>"
            ]
          },
          "metadata": {
            "tags": [],
            "needs_background": "light"
          }
        }
      ]
    },
    {
      "cell_type": "markdown",
      "metadata": {
        "id": "7TOfOfG9z27d",
        "colab_type": "text"
      },
      "source": [
        "### 2. Plot the accuracy curve"
      ]
    },
    {
      "cell_type": "code",
      "metadata": {
        "id": "310Nmx-oz6ej",
        "colab_type": "code",
        "colab": {
          "base_uri": "https://localhost:8080/",
          "height": 513
        },
        "outputId": "49f85693-e642-4cd5-ad12-67b7dbdbeb34"
      },
      "source": [
        "plt.figure(figsize=(8,8))\n",
        "plt.title(\"2. Plot the accuracy curve\")\n",
        "plt.xlabel(\"iteration\")\n",
        "plt.ylabel(\"loss\")\n",
        "plt.plot([i for i in range(iteration)], train_accr_list, label=\"training_accuracy(%)\", c='b')\n",
        "plt.plot([i for i in range(iteration)], test_accr_list, label=\"testing_accuracy(%)\", c='r')\n",
        "plt.legend()\n",
        "plt.show()"
      ],
      "execution_count": 21,
      "outputs": [
        {
          "output_type": "display_data",
          "data": {
            "image/png": "[encoded data removed]",
            "text/plain": [
              "<Figure size 576x576 with 1 Axes>"
            ]
          },
          "metadata": {
            "tags": [],
            "needs_background": "light"
          }
        }
      ]
    },
    {
      "cell_type": "markdown",
      "metadata": {
        "id": "1BbMOM8Dz6vy",
        "colab_type": "text"
      },
      "source": [
        "### 3. Plot the quantitative results"
      ]
    },
    {
      "cell_type": "code",
      "metadata": {
        "id": "i6V9uSgez9Di",
        "colab_type": "code",
        "colab": {
          "base_uri": "https://localhost:8080/",
          "height": 449
        },
        "outputId": "21adfc15-e24a-4c61-a77d-7805e3e2209c"
      },
      "source": [
        "from sklearn.metrics import classification_report, confusion_matrix, accuracy_score\n",
        "y_pred_train = cp.asnumpy(y_pred_train)\n",
        "y_pred_test = cp.asnumpy(y_pred_test)\n",
        "print(confusion_matrix(y_train,y_pred_train))\n",
        "print(classification_report(y_train,y_pred_train))\n",
        "print(accuracy_score(y_train, y_pred_train))\n",
        "\n",
        "print(confusion_matrix(y_test,y_pred_test))\n",
        "print(classification_report(y_test,y_pred_test))\n",
        "print(accuracy_score(y_test, y_pred_test))\n"
      ],
      "execution_count": 25,
      "outputs": [
        {
          "output_type": "stream",
          "text": [
            "[[390 309]\n",
            " [307 395]]\n",
            "              precision    recall  f1-score   support\n",
            "\n",
            "           0       0.56      0.56      0.56       699\n",
            "           1       0.56      0.56      0.56       702\n",
            "\n",
            "    accuracy                           0.56      1401\n",
            "   macro avg       0.56      0.56      0.56      1401\n",
            "weighted avg       0.56      0.56      0.56      1401\n",
            "\n",
            "0.5603140613847252\n",
            "[[154 148]\n",
            " [143 156]]\n",
            "              precision    recall  f1-score   support\n",
            "\n",
            "           0       0.52      0.51      0.51       302\n",
            "           1       0.51      0.52      0.52       299\n",
            "\n",
            "    accuracy                           0.52       601\n",
            "   macro avg       0.52      0.52      0.52       601\n",
            "weighted avg       0.52      0.52      0.52       601\n",
            "\n",
            "0.5158069883527454\n"
          ],
          "name": "stdout"
        }
      ]
    },
    {
      "cell_type": "markdown",
      "metadata": {
        "id": "0Yyyk2jg0PS6",
        "colab_type": "text"
      },
      "source": [
        "### 4. Testing accuracy"
      ]
    },
    {
      "cell_type": "code",
      "metadata": {
        "id": "nAYjv-Si0Q_x",
        "colab_type": "code",
        "colab": {
          "base_uri": "https://localhost:8080/",
          "height": 35
        },
        "outputId": "50253415-f8e1-46b4-d288-d0ce7720856f"
      },
      "source": [
        "print(\"Testing accuracy :\", test_accr_list[-1], \"%\")"
      ],
      "execution_count": 27,
      "outputs": [
        {
          "output_type": "stream",
          "text": [
            "Testing accuracy : 51.58069883527454 %\n"
          ],
          "name": "stdout"
        }
      ]
    }
  ]
}
{
  "nbformat": 4,
  "nbformat_minor": 0,
  "metadata": {
    "colab": {
      "name": "assignment10.ipynb",
      "provenance": [],
      "mount_file_id": "1d_hFm34xlDfqsmSv6BcGwdOpO0efJbAp",
      "authorship_tag": "ABX9TyMWdUbk95yvq5T7y63z5TQ/",
      "include_colab_link": true
    },
    "kernelspec": {
      "name": "python3",
      "display_name": "Python 3"
    }
  },
  "cells": [
    {
      "cell_type": "markdown",
      "metadata": {
        "id": "view-in-github",
        "colab_type": "text"
      },
      "source": [
        "<a href=\"https://colab.research.google.com/github/Reichidad/Machine-Learning-2020-Spring-Class/blob/assignment10/assignment10.ipynb\" target=\"_parent\"><img src=\"https://colab.research.google.com/assets/colab-badge.svg\" alt=\"Open In Colab\"/></a>"
      ]
    },
    {
      "cell_type": "markdown",
      "metadata": {
        "id": "sQmYtOi4a03G",
        "colab_type": "text"
      },
      "source": [
        "# Multi-label classification using neural networks with a regularization\n",
        "___"
      ]
    },
    {
      "cell_type": "markdown",
      "metadata": {
        "id": "dxTDXpL2a5vB",
        "colab_type": "text"
      },
      "source": [
        "## Training & Testing Code\n",
        "___"
      ]
    },
    {
      "cell_type": "code",
      "metadata": {
        "id": "Uutii1Se-pjY",
        "colab_type": "code",
        "colab": {}
      },
      "source": [
        "import matplotlib.pyplot as plt\n",
        "import numpy as np\n",
        "\n",
        "# data input\n",
        "file_data   = \"/content/drive/My Drive/Colab Notebooks/data10/mnist.csv\"\n",
        "handle_file = open(file_data, \"r\")\n",
        "data        = handle_file.readlines()\n",
        "handle_file.close()\n",
        "\n",
        "size_row    = 28    # height of the image\n",
        "size_col    = 28    # width of the image\n",
        "\n",
        "num_image   = len(data)\n",
        "num_train = 1000\n",
        "num_test = 9000\n",
        "count       = 0     # count for the number of images\n",
        "\n",
        "#\n",
        "# normalize the values of the input data to be [0, 1]\n",
        "#\n",
        "def normalize(data):\n",
        "\n",
        "    data_normalized = (data - min(data)) / (max(data) - min(data))\n",
        "\n",
        "    return(data_normalized)\n",
        "\n",
        "#\n",
        "# make a matrix each column of which represents an images in a vector form\n",
        "#\n",
        "list_image_train  = np.empty((size_row * size_col, num_train), dtype=float)\n",
        "list_label_train  = np.empty(num_train, dtype=int)\n",
        "list_image_test = np.empty((size_row * size_col, num_test), dtype=float)\n",
        "list_label_test  = np.empty(num_test, dtype=int)\n",
        "\n",
        "# list for store all iterations\n",
        "train_loss_list = []\n",
        "train_accr_list = []\n",
        "test_loss_list = []\n",
        "test_accr_list = []\n",
        "\n",
        "# matrix initialization\n",
        "for line in data:\n",
        "\n",
        "    line_data   = line.split(',')\n",
        "    label       = line_data[0]\n",
        "    im_vector   = np.asfarray(line_data[1:])\n",
        "    im_vector   = normalize(im_vector)\n",
        "\n",
        "    if count < num_train:\n",
        "      list_label_train[count]       = label\n",
        "      list_image_train[:, count]    = im_vector\n",
        "    else:\n",
        "      list_label_test[count - num_train] = label\n",
        "      list_image_test[:, count - num_train] = im_vector\n",
        "    count += 1\n",
        "\n",
        "# theta initialization with normal distribution N(0, 1)\n",
        "theta_u = np.random.randn(196, 785)\n",
        "theta_v = np.random.randn(49, 197)\n",
        "theta_w = np.random.randn(10,50)\n",
        "# learning values\n",
        "alpha = 0.6\n",
        "lambda_reg = 7.5\n",
        "\n",
        "# one_hot_encoding of labels for calculation\n",
        "one_hot_label_train = np.zeros((10, num_train), dtype=float)\n",
        "for i in range(num_train):\n",
        "  one_hot_label_train[list_label_train[i],i] = 1\n",
        "one_hot_label_test = np.zeros((10, num_test), dtype=float)\n",
        "for i in range(num_test):\n",
        "  one_hot_label_test[list_label_test[i],i] = 1\n",
        "\n",
        "# fully connected calculation with bias(1)\n",
        "def func_calc(theta_list, op_list):\n",
        "  return np.matmul(theta_list, np.insert(op_list, 0, 1))\n",
        "\n",
        "\n",
        "# sigmoid calculation\n",
        "def sigmoid(val):\n",
        "  return 1/(1+np.exp(-val))\n",
        "\n",
        "\n",
        "# derivative of the sigmoid\n",
        "def d_sigmoid(val):\n",
        "  sig_now = sigmoid(val)\n",
        "  return sig_now * (1 - sig_now)\n",
        "\n",
        "\n",
        "# objective function\n",
        "def ob_func(labels, results, num):\n",
        "  sum = 0\n",
        "  for i in range(num):\n",
        "    for j in range(len(results)):\n",
        "      sum += (-labels[j,i] * np.log(results[j][i])) - ((1 - labels[j,i]) * np.log(1 - results[j][i]))\n",
        "  return sum/num + ob_func_reg()\n",
        "\n",
        "\n",
        "# addition loss with regularization\n",
        "def ob_func_reg():\n",
        "  avg_u = np.mean(theta_u**2)\n",
        "  avg_v = np.mean(theta_v**2)\n",
        "  avg_w = np.mean(theta_w**2)\n",
        "  size = theta_u.size + theta_v.size + theta_w.size\n",
        "  return lambda_reg * (avg_u + avg_v + avg_w) / (2 * size) \n",
        "\n",
        "\n",
        "# addition gradient decent with regularization\n",
        "def g_d_reg(theta):\n",
        "  return lambda_reg * theta / theta.size\n",
        "# main function for 1 iteration\n",
        "def train_once():\n",
        "  global theta_u, theta_v, theta_w\n",
        "  # --------------------------\n",
        "  # training code\n",
        "  # --------------------------\n",
        "  # data storage for training\n",
        "  result_set = np.empty((10, num_train))\n",
        "  accr = 0\n",
        "  theta_u_next = np.zeros((196, 785))\n",
        "  theta_v_next = np.zeros((49, 197))\n",
        "  theta_w_next = np.zeros((10, 50))\n",
        "  \n",
        "  # training \n",
        "  for num in range(num_train):\n",
        "    # forward-propagation\n",
        "    x = list_image_train[:, num]\n",
        "    y = func_calc(theta_u, x)\n",
        "    y_sigmoid = sigmoid(y)\n",
        "    z= func_calc(theta_v, y_sigmoid)\n",
        "    z_sigmoid = sigmoid(z)\n",
        "    h = func_calc(theta_w, z_sigmoid)\n",
        "    h_sigmoid = sigmoid(h)\n",
        "    result_set[:, num] = h_sigmoid\n",
        "\n",
        "    # accuracy count\n",
        "    if np.argmax(h_sigmoid) == list_label_train[num]:\n",
        "      accr += 1\n",
        "\n",
        "    # gradient descent with back-propagation\n",
        "    d_first = np.zeros(10)\n",
        "    for i in range(10):\n",
        "      d_first[i] = (1-one_hot_label_train[i,num])/(1-h_sigmoid[i]) - one_hot_label_train[i,num]/h_sigmoid[i]\n",
        "      d_first[i] *= d_sigmoid(h[i])\n",
        "    theta_w_next += np.matmul(d_first.reshape(10,1), np.insert(z_sigmoid, 0, 1).reshape(1,50))\n",
        "    \n",
        "    d_second = np.matmul(d_first, theta_w)\n",
        "    for i in range(1,50):\n",
        "      d_second[i] *= d_sigmoid(z[i-1])\n",
        "    theta_v_next += np.matmul(d_second[1:].reshape(49, 1), np.insert(y_sigmoid, 0, 1).reshape(1, 197))\n",
        "\n",
        "    d_third = np.matmul(d_second[1:50], theta_v)\n",
        "    for i in range(1,197):\n",
        "      d_third[i] *= d_sigmoid(y[i-1])\n",
        "    theta_u_next += np.matmul(d_third[1:].reshape(196,1), np.insert(x, 0, 1).reshape(1, 785))\n",
        "\n",
        "  # store train_loss & train_accuracy after training done\n",
        "  train_loss = ob_func(one_hot_label_train, result_set, num_train)\n",
        "  train_loss_list.append(train_loss)\n",
        "  accr = accr * 100 / num_train\n",
        "  train_accr_list.append(accr)\n",
        "\n",
        "  # --------------------------\n",
        "  # testing code\n",
        "  # --------------------------\n",
        "  # data storage for testing\n",
        "  test_result_set = np.empty((10, num_test))\n",
        "  test_accr = 0\n",
        "\n",
        "  # testing\n",
        "  for num in range(num_test):\n",
        "    # forward-propagation only in testing\n",
        "    x = list_image_test[:, num]\n",
        "    y = func_calc(theta_u, x)\n",
        "    y_sigmoid = sigmoid(y)\n",
        "    z= func_calc(theta_v, y_sigmoid)\n",
        "    z_sigmoid = sigmoid(z)\n",
        "    h = func_calc(theta_w, z_sigmoid)\n",
        "    h_sigmoid = sigmoid(h)\n",
        "    test_result_set[:, num] = h_sigmoid\n",
        "\n",
        "    # accuracy count\n",
        "    if np.argmax(h_sigmoid) == list_label_test[num]:\n",
        "      test_accr += 1\n",
        "  # store test_loss & test_accuracy after testing done\n",
        "  test_loss = ob_func(one_hot_label_test, test_result_set, num_test)\n",
        "  test_loss_list.append(test_loss)\n",
        "  test_accr = test_accr * 100 / num_test\n",
        "  test_accr_list.append(test_accr)\n",
        "\n",
        "  # update theta\n",
        "  theta_u -= (alpha * (theta_u_next/num_train + g_d_reg(theta_u)))\n",
        "  theta_v -= (alpha * (theta_v_next/num_train + g_d_reg(theta_v)))\n",
        "  theta_w -= (alpha * (theta_w_next/num_train + g_d_reg(theta_w)))\n",
        "\n",
        "  return result_set, test_result_set\n",
        "# start iteration\n",
        "iteration = 0\n",
        "escape_flag = 0\n",
        "while iteration < 3500:\n",
        "  result_set, test_result_set = train_once()\n",
        "  print(iteration)\n",
        "  print(\"train / test loss :\", train_loss_list[-1], test_loss_list[-1])\n",
        "  print(\"train / test accr :\", train_accr_list[-1], test_accr_list[-1])\n",
        "  iteration += 1\n",
        "\n"
      ],
      "execution_count": 0,
      "outputs": []
    },
    {
      "cell_type": "code",
      "metadata": {
        "id": "Tbed_OEnXuYS",
        "colab_type": "code",
        "colab": {
          "base_uri": "https://localhost:8080/",
          "height": 143
        },
        "outputId": "12e22aed-d5e0-4412-a8be-7354626eaef6"
      },
      "source": [
        "print(\"iteration finished with\\n\",\n",
        "      \"iteration :\", iteration,\"\\n\",\n",
        "      \"alpha / lambda :\", alpha, lambda_reg, \"\\n\",\n",
        "      \"train_loss :\", train_loss_list[-1],\"\\n\",\n",
        "      \"train_accr :\", train_accr_list[-1], \"%\\n\",\n",
        "      \"test_loss :\", test_loss_list[-1], \"\\n\",\n",
        "      \"test_accr :\", test_accr_list[-1], \"%\")"
      ],
      "execution_count": 24,
      "outputs": [
        {
          "output_type": "stream",
          "text": [
            "iteration finished with\n",
            " iteration : 3500 \n",
            " alpha / lambda : 0.6 7.5 \n",
            " train_loss : 0.41769111143168347 \n",
            " train_accr : 100.0 %\n",
            " test_loss : 0.9663336306762892 \n",
            " test_accr : 86.68888888888888 %\n"
          ],
          "name": "stdout"
        }
      ]
    },
    {
      "cell_type": "markdown",
      "metadata": {
        "id": "_AvmqS5rXgYR",
        "colab_type": "text"
      },
      "source": [
        "## Submission\n",
        "___"
      ]
    },
    {
      "cell_type": "markdown",
      "metadata": {
        "id": "fAgvnWxXYNT0",
        "colab_type": "text"
      },
      "source": [
        "### 1. Plot the loss curve\n",
        "___"
      ]
    },
    {
      "cell_type": "code",
      "metadata": {
        "id": "NV19ZIGGYRdG",
        "colab_type": "code",
        "outputId": "6fb9b3d0-4ab6-45c5-eebe-27bc943c1558",
        "colab": {
          "base_uri": "https://localhost:8080/",
          "height": 513
        }
      },
      "source": [
        "plt.figure(figsize=(8,8))\n",
        "plt.title(\"1. Plot the loss curve\")\n",
        "plt.xlabel(\"iteration\")\n",
        "plt.ylabel(\"loss\")\n",
        "plt.plot([i for i in range(iteration)], train_loss_list, label=\"training_loss\", c='b')\n",
        "plt.plot([i for i in range(iteration)], test_loss_list, label=\"testing_loss\", c='r')\n",
        "plt.legend()\n",
        "plt.show()"
      ],
      "execution_count": 0,
      "outputs": [
        {
          "output_type": "display_data",
          "data": {
            "image/png": "[encoded data removed]",
            "text/plain": [
              "<Figure size 576x576 with 1 Axes>"
            ]
          },
          "metadata": {
            "tags": [],
            "needs_background": "light"
          }
        }
      ]
    }
  ]
}
{
  "nbformat": 4,
  "nbformat_minor": 0,
  "metadata": {
    "colab": {
      "name": "assignment04.ipynb",
      "provenance": [],
      "collapsed_sections": [],
      "toc_visible": true,
      "mount_file_id": "1DtkdBDrw4eHA1IKU8mIZZ8FxNFUYXRTv",
      "authorship_tag": "ABX9TyN1YCoUrlDqowEsBGY1+JUq",
      "include_colab_link": true
    },
    "kernelspec": {
      "name": "python3",
      "display_name": "Python 3"
    }
  },
  "cells": [
    {
      "cell_type": "markdown",
      "metadata": {
        "id": "view-in-github",
        "colab_type": "text"
      },
      "source": [
        "<a href=\"https://colab.research.google.com/github/Reichidad/Machine-Learning-2020-Spring-Class/blob/assignment04/assignment04.ipynb\" target=\"_parent\"><img src=\"https://colab.research.google.com/assets/colab-badge.svg\" alt=\"Open In Colab\"/></a>"
      ]
    },
    {
      "cell_type": "markdown",
      "metadata": {
        "id": "4tWccoydw91U",
        "colab_type": "text"
      },
      "source": [
        "# Assignment 04. Linear regression with multiple variables - 20145822 김영현\n",
        "---\n",
        "## 1. Plot the estimated parameters using the training dataset\n",
        "\n",
        "## 2. Plot the training error using the training dataset\n",
        "\n",
        "## 3. Plot the testing error using the testing dataset at every iteration of gradient descent until convergence\n",
        "\n"
      ]
    },
    {
      "cell_type": "code",
      "metadata": {
        "id": "wJ8WsygYxPjq",
        "colab_type": "code",
        "colab": {
          "base_uri": "https://localhost:8080/",
          "height": 513
        },
        "outputId": "26fa251a-b9c2-4025-d242-ac135e6e31a8"
      },
      "source": [
        "%matplotlib inline\n",
        "import numpy as np\n",
        "import matplotlib.pyplot as plt\n",
        "from mpl_toolkits.mplot3d import Axes3D\n",
        "import csv\n",
        "\n",
        "# Input data file read\n",
        "# train sets\n",
        "x_train = []\n",
        "y_train = []\n",
        "z_train = []\n",
        "h_train = []\n",
        "\n",
        "with open('/content/drive/My Drive/Colab Notebooks/data04/data_train.csv', newline='') as myfile:\n",
        "    reader  = csv.reader(myfile, delimiter=',')\n",
        "    for i in reader:\n",
        "      x_train.append(float(i[0]))\n",
        "      y_train.append(float(i[1]))\n",
        "      z_train.append(float(i[2]))\n",
        "      h_train.append(float(i[3]))\n",
        "\n",
        "# test sets\n",
        "x_test = []\n",
        "y_test = []\n",
        "z_test = []\n",
        "h_test = []\n",
        "\n",
        "with open('/content/drive/My Drive/Colab Notebooks/data04/data_test.csv', newline='') as myfile:\n",
        "    reader  = csv.reader(myfile, delimiter=',')\n",
        "    for i in reader:\n",
        "      x_test.append(float(i[0]))\n",
        "      y_test.append(float(i[1]))\n",
        "      z_test.append(float(i[2]))\n",
        "      h_test.append(float(i[3]))\n",
        "\n",
        "# linear_model return the value's list of the linear_model\n",
        "def linear_model(theta_0, theta_1, theta_2, theta_3, x, y, z):\n",
        "  linear_model = []\n",
        "  for i in range(len(x)):\n",
        "    func_val = theta_0 + (theta_1 * x[i]) + (theta_2 * y[i]) + (theta_3 * z[i])\n",
        "    linear_model.append(func_val)\n",
        "  return linear_model\n",
        "\n",
        "# objective_function return the objective function value\n",
        "# by calculating with linear_model given thetas\n",
        "def objective_function(linear_model, h):\n",
        "  sum = 0\n",
        "  for i in range(len(h)):\n",
        "    sub = linear_model[i] - h[i]\n",
        "    sum += sub ** 2\n",
        "\n",
        "  return sum/(2 * len(h))\n",
        "# theta_desc return the next theta\n",
        "# Separate each theta by key value\n",
        "def theta_desc(theta, linear_model, h, alpha, x, y, z, key):\n",
        "  sum = 0\n",
        "  for i in range(len(x)):\n",
        "    sub = linear_model[i] - h[i]\n",
        "    if key == 0:\n",
        "      sum += sub\n",
        "    elif key == 1:\n",
        "      sum += sub * x[i]\n",
        "    elif key == 2:\n",
        "      sum += sub * y[i]\n",
        "    elif key == 3:\n",
        "      sum += sub * z[i]\n",
        "      \n",
        "  return theta - (alpha * sum/len(h))\n",
        "\n",
        "# list for store theta values\n",
        "theta_0_train_list = []\n",
        "theta_1_train_list = []\n",
        "theta_2_train_list = []\n",
        "theta_3_train_list = []\n",
        "ob_list = []\n",
        "\n",
        "# theta value for each iteration\n",
        "# initial conditions are all 0\n",
        "theta_0_train = 0\n",
        "theta_1_train = 0\n",
        "theta_2_train = 0\n",
        "theta_3_train = 0\n",
        "\n",
        "# objective function value for each iteration\n",
        "ob_value = 0\n",
        "# running rate\n",
        "alpha = 0.00001\n",
        "# iteration counter\n",
        "iteration = 0\n",
        "\n",
        "# iteration for training set\n",
        "while True:\n",
        "  func_train = linear_model(theta_0_train, theta_1_train, theta_2_train, theta_3_train, x_train, y_train, z_train)\n",
        "  ob_value = objective_function(func_train, h_train)\n",
        "\n",
        "  theta_0_train_list.append(theta_0_train)\n",
        "  theta_1_train_list.append(theta_1_train)\n",
        "  theta_2_train_list.append(theta_2_train)\n",
        "  theta_3_train_list.append(theta_3_train)\n",
        "  ob_list.append(ob_value)\n",
        "\n",
        "  # escape rule\n",
        "  if iteration > 1:\n",
        "    if ob_list[iteration-1] == ob_list[iteration] :\n",
        "      iteration += 1\n",
        "      break\n",
        "\n",
        "  theta_0_train = theta_desc(theta_0_train, func_train, h_train, alpha, x_train, y_train, z_train, 0)\n",
        "  theta_1_train = theta_desc(theta_1_train, func_train, h_train, alpha, x_train, y_train, z_train, 1)\n",
        "  theta_2_train = theta_desc(theta_2_train, func_train, h_train, alpha, x_train, y_train, z_train, 2)\n",
        "  theta_3_train = theta_desc(theta_3_train, func_train, h_train, alpha, x_train, y_train, z_train, 3)\n",
        "  iteration += 1\n",
        "\n",
        "# 1. Plot the estimated parameters using the training dataset\n",
        "# theta at every iteration of gradient descent until convergence\n",
        "# theta 0: black\n",
        "# theta 1: red\n",
        "# theta 2: green\n",
        "# theta 3: blue\n",
        "iterations = [i for i in range(iteration)]\n",
        "plt.figure(1, figsize=(8,8))\n",
        "plt.title(\"1. Plot the estimated parameters using the training dataset\")\n",
        "plt.xlabel(\"iteration\")\n",
        "plt.ylabel(\"theta\")\n",
        "plt.plot(iterations, theta_0_train_list, c='k', label=\"theta_0_train\")\n",
        "plt.plot(iterations, theta_1_train_list, c='r', label=\"theta_1_train\")\n",
        "plt.plot(iterations, theta_2_train_list, c='g', label=\"theta_2_train\")\n",
        "plt.plot(iterations, theta_3_train_list, c='b', label=\"theta_3_train\")\n",
        "plt.legend(loc='upper right')\n",
        "\n",
        "plt.show()\n",
        "\n",
        "\n",
        "\n",
        "\n",
        "\n",
        "\n"
      ],
      "execution_count": 51,
      "outputs": [
        {
          "output_type": "display_data",
          "data": {
            "image/png": "[encoded data removed]",
            "text/plain": [
              "<Figure size 576x576 with 1 Axes>"
            ]
          },
          "metadata": {
            "tags": [],
            "needs_background": "light"
          }
        }
      ]
    },
    {
      "cell_type": "code",
      "metadata": {
        "id": "bdw5Wjw1A_42",
        "colab_type": "code",
        "colab": {}
      },
      "source": [
        "()"
      ],
      "execution_count": 0,
      "outputs": []
    }
  ]
}
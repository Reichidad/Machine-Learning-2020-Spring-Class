{
  "nbformat": 4,
  "nbformat_minor": 0,
  "metadata": {
    "colab": {
      "name": "assignment06.ipynb",
      "provenance": [],
      "mount_file_id": "1b3AUaT5vRl_F028jzZOCyFk8bMtCEcA_",
      "authorship_tag": "ABX9TyMils+l0fiKKBraq0EcXtRD",
      "include_colab_link": true
    },
    "kernelspec": {
      "name": "python3",
      "display_name": "Python 3"
    }
  },
  "cells": [
    {
      "cell_type": "markdown",
      "metadata": {
        "id": "view-in-github",
        "colab_type": "text"
      },
      "source": [
        "<a href=\"https://colab.research.google.com/github/Reichidad/Machine-Learning-2020-Spring-Class/blob/assignment06/assignment06.ipynb\" target=\"_parent\"><img src=\"https://colab.research.google.com/assets/colab-badge.svg\" alt=\"Open In Colab\"/></a>"
      ]
    },
    {
      "cell_type": "markdown",
      "metadata": {
        "id": "s0B8d_3laIxI",
        "colab_type": "text"
      },
      "source": [
        "# Logistic regression for a binary classification with a non-linear classification boundary - 20145822 김영현\n",
        "---\n",
        "## 1. Plot the training data\n",
        "  - plot the training data points $(x, y)$ with their labels $l$ in colors (blue for label 0 and red for label 1)\n",
        "  - Same as sample code of requirement"
      ]
    },
    {
      "cell_type": "code",
      "metadata": {
        "id": "aYPG2NSe3dAS",
        "colab_type": "code",
        "colab": {
          "base_uri": "https://localhost:8080/",
          "height": 89
        },
        "outputId": "1d559bd1-a979-44ab-d8b5-3f0cbec1bacf"
      },
      "source": [
        "import numpy as np\n",
        "import matplotlib.pyplot as plt\n",
        "import math\n",
        "\n",
        "# data input\n",
        "data    = np.genfromtxt(\"/content/drive/My Drive/Colab Notebooks/data06/data-nonlinear.txt\", delimiter=',')\n",
        "\n",
        "pointX  = data[:, 0]\n",
        "pointY  = data[:, 1]\n",
        "label   = data[:, 2]\n",
        "\n",
        "pointX0 = pointX[label == 0]\n",
        "pointY0 = pointY[label == 0]\n",
        "\n",
        "pointX1 = pointX[label == 1]\n",
        "pointY1 = pointY[label == 1]\n",
        "\n",
        "# function definition\n",
        "# calculate f_k value\n",
        "def func_k_calc(x, y, x_exp, y_exp):\n",
        "  return (x ** x_exp) * (y ** y_exp)\n",
        "# calculate g function value\n",
        "def func_calc(theta_list, x, y, dim_list):\n",
        "  func_val = 0\n",
        "  for i in range(len(theta_list)):\n",
        "    func_val += theta_list[i] * func_k_calc(x, y, dim_list[i][0], dim_list[i][1])\n",
        "  return func_val\n",
        "# calculate z values\n",
        "def z_calc(theta_list, pointX, pointY, dim_list):\n",
        "  z = []\n",
        "  for i in range(len(pointX)):\n",
        "    z_iteration = func_calc(theta_list, pointX[i], pointY[i], dim_list)\n",
        "    z.append(z_iteration)\n",
        "  return z\n",
        "# calculate sigmoid values\n",
        "def calc_sigmoid(z):\n",
        "  sigmoid = []\n",
        "  for i in range(len(z)):\n",
        "    sigmoid.append(1/(1+math.exp(-z[i])))\n",
        "  return sigmoid\n",
        "# calculate objective function value\n",
        "def ob_func(label, sigmoid):\n",
        "  sum = 0\n",
        "  for i in range(len(label)):\n",
        "    oprd_left = (-1*label[i]) * math.log(sigmoid[i])\n",
        "    oprd_right = (1-label[i]) * math.log(1-sigmoid[i])\n",
        "    sum += oprd_left - oprd_right\n",
        "  return sum/len(label)\n",
        "# calculate next theta value\n",
        "def theta_desc(theta_list, alpha, pointX, pointY, label, sigmoid, dim_list):\n",
        "  sum = [0, 0, 0, 0, 0, 0]\n",
        "  for i in range(len(sigmoid)):\n",
        "    for j in range(len(theta_list)):\n",
        "      sum[j] += (sigmoid[i] - label[i]) * func_k_calc(pointX[i], pointY[i], dim_list[j][0], dim_list[j][1])\n",
        "\n",
        "  for i in range(len(theta_list)):\n",
        "    sum[i] = sum[i] / len(sigmoid) * alpha\n",
        "    theta_list[i] = theta_list[i] - sum[i]\n",
        " \n",
        "  return theta_list\n",
        "\n",
        "# initialize g(x, y, theta) function\n",
        "theta_list = [1,1,1,1,1,1]\n",
        "dim_list = [[0,0],\n",
        "                  [1,0],\n",
        "                  [0,1],\n",
        "                  [2,0],\n",
        "                  [1,1],\n",
        "                  [0,2]]\n",
        "# variable initialization\n",
        "alpha = 0.001\n",
        "iteration = 0\n",
        "# variable list for store iteration data\n",
        "ob_func_list = []\n",
        "theta_desc_list = []\n",
        "accuracy_list = []\n",
        "# iteration\n",
        "while True:\n",
        "  # calculate each value for this iteration\n",
        "  z_list = z_calc(theta_list, pointX, pointY, dim_list)\n",
        "  sigmoid_list = calc_sigmoid(z_list)\n",
        "  ob_func_val = ob_func(label, sigmoid_list)\n",
        "  # store predictions\n",
        "  predictions = []\n",
        "  p_count = 0\n",
        "  for i in z_list:\n",
        "    if i < 0:\n",
        "      predictions.append(0)\n",
        "    else:\n",
        "      predictions.append(1)\n",
        "  # calculate accuracy\n",
        "  acc_hit = 0\n",
        "  for i in range(len(label)):\n",
        "    if label[i] == predictions[i]:\n",
        "      acc_hit += 1\n",
        "  accuracy_list.append(acc_hit/len(label) * 100)\n",
        "  # store each value\n",
        "  theta_desc_list.append(theta_list)\n",
        "  ob_func_list.append(ob_func_val)\n",
        "  # escape rule\n",
        "  if iteration > 0:\n",
        "    if abs(ob_func_list[iteration] - ob_func_list[iteration-1]) < 0.000001:\n",
        "      break\n",
        "  # update next theta values & iteration value\n",
        "  theta_list = theta_desc(theta_list, alpha, pointX, pointY, label, sigmoid_list, dim_list)\n",
        "  iteration += 1\n",
        "\n",
        "print(\"Training finished with\")\n",
        "print(\"iteration : \", iteration)\n",
        "print(\"training error : \", ob_func_list[-1])\n",
        "print(\"theta : \", theta_desc_list[-1])\n",
        "\n",
        "iterations = [i for i in range(iteration+1)]"
      ],
      "execution_count": 52,
      "outputs": [
        {
          "output_type": "stream",
          "text": [
            "Training finished with\n",
            "iteration :  111394\n",
            "training error :  0.5246312863052902\n",
            "theta :  [1.1558086636008793, 0.2628043532721574, 0.621116131368244, -2.803808768620564, -0.671645064922258, -2.285792426148195]\n"
          ],
          "name": "stdout"
        }
      ]
    },
    {
      "cell_type": "code",
      "metadata": {
        "id": "daA8x8ZxzEYX",
        "colab_type": "code",
        "colab": {
          "base_uri": "https://localhost:8080/",
          "height": 575
        },
        "outputId": "ca8efe0f-0c1b-4866-bb96-c50415df21c1"
      },
      "source": [
        "import numpy as np\n",
        "import matplotlib.pyplot as plt\n",
        "import math\n",
        "# 1. Plot the training data\n",
        "plt.figure(figsize=(8,8))\n",
        "plt.title(\"1. Plot the training data\")\n",
        "plt.scatter(pointX0, pointY0, c='b')\n",
        "plt.scatter(pointX1, pointY1, c='r')\n",
        "plt.tight_layout()\n",
        "plt.gca().set_aspect('equal', adjustable='box')\n",
        "plt.show()"
      ],
      "execution_count": 53,
      "outputs": [
        {
          "output_type": "display_data",
          "data": {
            "image/png": "[encoded data removed]",
            "text/plain": [
              "<Figure size 576x576 with 1 Axes>"
            ]
          },
          "metadata": {
            "tags": [],
            "needs_background": "light"
          }
        }
      ]
    },
    {
      "cell_type": "markdown",
      "metadata": {
        "id": "AoINZPeDdauP",
        "colab_type": "text"
      },
      "source": [
        "## 2. Write down the high dimensional function $g(x, y, \\theta)$\n",
        "  - $g(x, y, \\theta) = \\theta_0f_0(x,y) + \\theta_1f_1(x,y) + \\theta_2f_2(x,y) + \\theta_3f_3(x,y) + \\theta_4f_4(x,y) + \\theta_5f_5(x,y)$\n",
        "  - $f_0(x,y) = 0$\n",
        "  - $f_1(x,y) = x$\n",
        "  - $f_2(x,y) = y$\n",
        "  - $f_3(x,y) = x^2$\n",
        "  - $f_4(x,y) = xy$\n",
        "  - $f_5(x,y) = y^2$\n",
        "  - The initial value of all $\\theta$ was set to 1."
      ]
    },
    {
      "cell_type": "code",
      "metadata": {
        "id": "rvaOnaqedblT",
        "colab_type": "code",
        "outputId": "06f90512-af5c-4760-97c6-57cb488038d2",
        "colab": {
          "base_uri": "https://localhost:8080/",
          "height": 513
        }
      },
      "source": [
        "import numpy as np\n",
        "import matplotlib.pyplot as plt\n",
        "import math\n",
        "# 3. Plot the training error\n",
        "plt.figure(figsize=(8,8))\n",
        "plt.title(\"3. Plot the training error\")\n",
        "plt.xlabel('iteration')\n",
        "plt.ylabel('training error')\n",
        "plt.plot(iterations, ob_func_list, c='b', label='training error')\n",
        "plt.show()"
      ],
      "execution_count": 54,
      "outputs": [
        {
          "output_type": "display_data",
          "data": {
            "image/png": "[encoded data removed]",
            "text/plain": [
              "<Figure size 576x576 with 1 Axes>"
            ]
          },
          "metadata": {
            "tags": [],
            "needs_background": "light"
          }
        }
      ]
    }
  ]
}
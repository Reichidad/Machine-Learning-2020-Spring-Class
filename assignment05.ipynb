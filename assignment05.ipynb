{
  "nbformat": 4,
  "nbformat_minor": 0,
  "metadata": {
    "colab": {
      "name": "assignment05.ipynb",
      "provenance": [],
      "toc_visible": true,
      "mount_file_id": "1i5-OW4ua7fhXUyjWriIfNd4j9WT14SfU",
      "authorship_tag": "ABX9TyOF7kX4Yc2ohRyj2zBo4qD+",
      "include_colab_link": true
    },
    "kernelspec": {
      "name": "python3",
      "display_name": "Python 3"
    }
  },
  "cells": [
    {
      "cell_type": "markdown",
      "metadata": {
        "id": "view-in-github",
        "colab_type": "text"
      },
      "source": [
        "<a href=\"https://colab.research.google.com/github/Reichidad/Machine-Learning-2020-Spring-Class/blob/assignment05/assignment05.ipynb\" target=\"_parent\"><img src=\"https://colab.research.google.com/assets/colab-badge.svg\" alt=\"Open In Colab\"/></a>"
      ]
    },
    {
      "cell_type": "markdown",
      "metadata": {
        "id": "RarqI2cAZHJp",
        "colab_type": "text"
      },
      "source": [
        "# Assignment 05. Logistic regression for a binary classification - 20145822 김영현\n",
        "---\n",
        "## 1. Plot the training data\n",
        "\n",
        "## 2. Plot the estimated parameters\n",
        "\n",
        "## 3.  Plot the training error\n",
        "\n",
        "## 4. Plot the obtained classifier"
      ]
    },
    {
      "cell_type": "code",
      "metadata": {
        "id": "Gg0YlfvXZdvk",
        "colab_type": "code",
        "colab": {
          "base_uri": "https://localhost:8080/",
          "height": 1000
        },
        "outputId": "52b7e97f-d8e7-4562-eab8-03f514dc39f3"
      },
      "source": [
        "import numpy as np\n",
        "import matplotlib.pyplot as plt\n",
        "import math\n",
        "\n",
        "# data input\n",
        "data    = np.genfromtxt(\"/content/drive/My Drive/Colab Notebooks/data05/data.txt\", delimiter=',')\n",
        "\n",
        "x       = data[:, 0]\n",
        "y       = data[:, 1]\n",
        "label   = data[:, 2]\n",
        "\n",
        "x_label0    = x[label == 0]\n",
        "x_label1    = x[label == 1]\n",
        "\n",
        "y_label0    = y[label == 0]\n",
        "y_label1    = y[label == 1]\n",
        "\n",
        "# function definition\n",
        "# calculate z value\n",
        "def calc_z(theta_0, theta_1, theta_2, x, y):\n",
        "  z= []\n",
        "  for i in range(len(x)):\n",
        "    z.append(theta_0 + (theta_1 * x[i]) + (theta_2 * y[i]))\n",
        "  return z\n",
        "# calculate sigmoid value\n",
        "def calc_sigmoid(z):\n",
        "  sigmoid = []\n",
        "  for i in range(len(z)):\n",
        "    sigmoid.append(1/(1+math.exp(-z[i])))\n",
        "  return sigmoid\n",
        "# calculate objective function value\n",
        "def ob_func(label, sigmoid):\n",
        "  sum = 0\n",
        "  for i in range(len(label)):\n",
        "    oprd_left = (-1*label[i]) * math.log(sigmoid[i])\n",
        "    oprd_right = (1-label[i]) * math.log(1-sigmoid[i])\n",
        "    sum += oprd_left - oprd_right\n",
        "  return sum/len(label)\n",
        "# calculate next theta value\n",
        "def theta_desc(theta, alpha, x, y, label, sigmoid, key):\n",
        "  sum = 0\n",
        "  for i in range(len(sigmoid)):\n",
        "    if key == 0:\n",
        "      sum += sigmoid[i] - label[i]\n",
        "    elif key == 1:\n",
        "      sum += (sigmoid[i] - label[i]) * x[i]\n",
        "    elif key == 2:\n",
        "      sum += (sigmoid[i] - label[i]) * y[i]\n",
        "  return theta - (alpha * sum / len(sigmoid))\n",
        "\n",
        "# variable initialization\n",
        "theta_0 = 0.01\n",
        "theta_1 = 0.01\n",
        "theta_2 = 0.01\n",
        "alpha = 0.005\n",
        "iteration = 0\n",
        "# variable list for store iteration data\n",
        "ob_func_list = []\n",
        "theta_0_list = []\n",
        "theta_1_list = []\n",
        "theta_2_list = []\n",
        "# iteration\n",
        "while True:\n",
        "  # calculate each value for this iteration\n",
        "  z_list = calc_z(theta_0, theta_1, theta_2, x, y)\n",
        "  sigmoid_list = calc_sigmoid(z_list)\n",
        "  ob_func_val = ob_func(label, sigmoid_list)\n",
        "  # store each value\n",
        "  theta_0_list.append(theta_0)\n",
        "  theta_1_list.append(theta_1)\n",
        "  theta_2_list.append(theta_2)\n",
        "  ob_func_list.append(ob_func_val)\n",
        "\n",
        "\n",
        "  # escape rule\n",
        "  if iteration > 0:\n",
        "    if iteration % 100000 == 0:\n",
        "      print(iteration, ob_func_list[iteration-1], ob_func_val)\n",
        "    if iteration == 1000000:\n",
        "      alpha = 0.00001\n",
        "    if abs(ob_func_list[iteration-1] - ob_func_val) < 0.000000001:\n",
        "      print(iteration, ob_func_list[iteration-1], ob_func_val)\n",
        "      break\n",
        "  # update next theta values & iteration value\n",
        "  theta_0 = theta_desc(theta_0, alpha, x, y, label, sigmoid_list, 0)\n",
        "  theta_1 = theta_desc(theta_1, alpha, x, y, label, sigmoid_list, 1)\n",
        "  theta_2 = theta_desc(theta_2, alpha, x, y, label, sigmoid_list, 2)\n",
        "  iteration += 1\n",
        "\n",
        "iterations = []\n",
        "for i in range(iteration+1):\n",
        "  iterations.append(i)\n",
        "\n",
        "# 1. Plot the training data\n",
        "# plot the training data points (x,y) with their labels\n",
        "# blue for label 0 and red for label 1\n",
        "plt.figure(1,figsize=(8, 8))\n",
        "plt.title('1. Plot the training data')\n",
        "plt.xlabel('x')\n",
        "plt.ylabel('y')\n",
        "plt.scatter(x_label0, y_label0, alpha=0.5, c='b', label='label0')\n",
        "plt.scatter(x_label1, y_label1, alpha=0.5, c='r', label='label1')\n",
        "plt.legend()\n",
        "\n",
        "# 2. Plot the estimated parameters\n",
        "# plot the thetas at every iteration of gradient descent until convergence\n",
        "# (θ0,θ1,θ2) should be red, green, blue, respectively\n",
        "plt.figure(2,figsize=(8, 8))\n",
        "plt.title('2. Plot the estimated parameters')\n",
        "plt.xlabel('iteration')\n",
        "plt.ylabel('theta')\n",
        "plt.plot(iterations, theta_0_list, c='r', label='theta_0')\n",
        "plt.plot(iterations, theta_1_list, c='g', label='theta_1')\n",
        "plt.plot(iterations, theta_2_list, c='b', label='theta_2')\n",
        "plt.legend()\n",
        "\n",
        "plt.show()\n"
      ],
      "execution_count": 102,
      "outputs": [
        {
          "output_type": "stream",
          "text": [
            "100000 0.704444274110096 1.4060152939876027\n",
            "200000 0.26812023156323456 0.28802543577132544\n",
            "300000 0.2376585488110843 0.24468741348928183\n",
            "400000 0.23736221484865527 0.24428834227261048\n",
            "500000 0.2373585702508854 0.24428343731523372\n",
            "600000 0.23735852530659118 0.24428337682897802\n",
            "700000 0.23735852475343183 0.24428337608453363\n",
            "800000 0.23735852475343183 0.24428337608453363\n",
            "900000 0.23735852475343183 0.24428337608453363\n",
            "1000000 0.23735852475343183 0.24428337608453363\n",
            "1002800 0.2064799898438051 0.20647998884396462\n"
          ],
          "name": "stdout"
        },
        {
          "output_type": "display_data",
          "data": {
            "image/png": "[encoded data removed]",
            "text/plain": [
              "<Figure size 576x576 with 1 Axes>"
            ]
          },
          "metadata": {
            "tags": [],
            "needs_background": "light"
          }
        },
        {
          "output_type": "display_data",
          "data": {
            "image/png": "[encoded data removed]",
            "text/plain": [
              "<Figure size 576x576 with 1 Axes>"
            ]
          },
          "metadata": {
            "tags": [],
            "needs_background": "light"
          }
        }
      ]
    },
    {
      "cell_type": "code",
      "metadata": {
        "id": "c62b5p5a-iFr",
        "colab_type": "code",
        "colab": {}
      },
      "source": [
        ""
      ],
      "execution_count": 0,
      "outputs": []
    }
  ]
}
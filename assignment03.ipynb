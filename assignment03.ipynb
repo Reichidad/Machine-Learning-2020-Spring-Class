{
  "nbformat": 4,
  "nbformat_minor": 0,
  "metadata": {
    "colab": {
      "name": "assignment03.ipynb",
      "provenance": [],
      "toc_visible": true,
      "mount_file_id": "1UnsKKwucWp_IperT8eiZnr49qXCKd1Sg",
      "authorship_tag": "ABX9TyOpY4CLBo/kOElkrTxXH1nk",
      "include_colab_link": true
    },
    "kernelspec": {
      "name": "python3",
      "display_name": "Python 3"
    }
  },
  "cells": [
    {
      "cell_type": "markdown",
      "metadata": {
        "id": "view-in-github",
        "colab_type": "text"
      },
      "source": [
        "<a href=\"https://colab.research.google.com/github/Reichidad/Machine-Learning-2020-Spring-Class/blob/assignment03/assignment03.ipynb\" target=\"_parent\"><img src=\"https://colab.research.google.com/assets/colab-badge.svg\" alt=\"Open In Colab\"/></a>"
      ]
    },
    {
      "cell_type": "markdown",
      "metadata": {
        "id": "nldOvED77q-U",
        "colab_type": "text"
      },
      "source": [
        "# Assignment 03. Visualization of Gradient Descent algorithm based on Linear Regression problem - 20145822 김영현\n",
        "---\n",
        "## 1. Input points\n",
        "\n",
        "## 2. Linear regression result\n",
        "\n",
        "## 3. Plot the energy surface\n",
        "\n",
        "## 4. Plot the gradient descent path on the energy surface"
      ]
    },
    {
      "cell_type": "code",
      "metadata": {
        "id": "Sif9R4O58dfs",
        "colab_type": "code",
        "colab": {
          "base_uri": "https://localhost:8080/",
          "height": 513
        },
        "outputId": "215372ed-7aaf-4888-91ff-aa09d14f5d59"
      },
      "source": [
        "%matplotlib inline\n",
        "import numpy as np\n",
        "import matplotlib.pyplot as plt\n",
        "\n",
        "# Input data file read\n",
        "path = \"/content/drive/My Drive/Colab Notebooks/data.csv\"\n",
        "data = np.genfromtxt(path, delimiter=',')\n",
        "\n",
        "x_data = data[:, 0]\n",
        "y_data = data[:, 1]\n",
        "\n",
        "# 1. Input points\n",
        "# plot a set of points that are loaded from 'data.csv' file (in black color)\n",
        "plt.figure(1, figsize=(8,8))\n",
        "plt.title(\"1. Input points\")\n",
        "plt.xlabel(\"x(l)\")\n",
        "plt.ylabel(\"y(l)\")\n",
        "plt.scatter(x_data, y_data, s=15, c='k', label=\"data.csv\")\n",
        "plt.legend()\n",
        "\n",
        "# 2. Linear regression result\n",
        "# plot a set of points that are loaded from 'data.csv' file (in black color)\n",
        "# plot a straight line obtained by the optimal linear regression\n",
        "# based on the given set of points (in red color)\n",
        "\n",
        "plt.show()"
      ],
      "execution_count": 6,
      "outputs": [
        {
          "output_type": "display_data",
          "data": {
            "image/png": "[encoded data removed]",
            "text/plain": [
              "<Figure size 576x576 with 1 Axes>"
            ]
          },
          "metadata": {
            "tags": []
          }
        }
      ]
    }
  ]
}